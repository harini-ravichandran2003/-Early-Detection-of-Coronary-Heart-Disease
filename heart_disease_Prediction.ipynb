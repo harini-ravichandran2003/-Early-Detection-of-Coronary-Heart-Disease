{
  "nbformat": 4,
  "nbformat_minor": 0,
  "metadata": {
    "colab": {
      "provenance": []
    },
    "kernelspec": {
      "name": "python3",
      "display_name": "Python 3"
    },
    "language_info": {
      "name": "python"
    }
  },
  "cells": [
    {
      "cell_type": "code",
      "execution_count": 1,
      "metadata": {
        "id": "Eju3CFakxirD"
      },
      "outputs": [],
      "source": [
        "# Step 1: Import Libraries\n",
        "import pandas as pd\n",
        "from sklearn.model_selection import train_test_split\n",
        "from sklearn.preprocessing import StandardScaler\n",
        "from sklearn.linear_model import LogisticRegression\n",
        "from sklearn.neighbors import KNeighborsClassifier\n",
        "from sklearn.tree import DecisionTreeClassifier\n",
        "from sklearn.svm import SVC\n",
        "from sklearn.naive_bayes import GaussianNB\n",
        "from sklearn.ensemble import RandomForestClassifier, GradientBoostingClassifier\n",
        "from sklearn.metrics import accuracy_score\n",
        "\n",
        "\n",
        "df = pd.read_csv('cardio_train.csv', sep=';')"
      ]
    },
    {
      "cell_type": "code",
      "source": [
        "X = df.drop(['id', 'cardio'], axis=1)\n",
        "y = df['cardio']\n",
        "\n",
        "scaler = StandardScaler()\n",
        "X_scaled = scaler.fit_transform(X)\n",
        "\n",
        "X_train, X_test, y_train, y_test = train_test_split(X_scaled, y, test_size=0.25, random_state=42)"
      ],
      "metadata": {
        "id": "Is8Gifo0xvn8"
      },
      "execution_count": 2,
      "outputs": []
    },
    {
      "cell_type": "code",
      "source": [
        "models = {\n",
        "    \"Logistic Regression\": LogisticRegression(),\n",
        "    \"K-Nearest Neighbors (KNN)\": KNeighborsClassifier(),\n",
        "    \"Decision Tree (J48)\": DecisionTreeClassifier(),\n",
        "    \"Support Vector Machine (SVC)\": SVC(),\n",
        "    \"Naive Bayes\": GaussianNB()\n",
        "}\n",
        "\n",
        "print(\"----- Base Models Performance -----\")\n",
        "for name, model in models.items():\n",
        "    model.fit(X_train, y_train)\n",
        "    preds = model.predict(X_test)\n",
        "    acc = accuracy_score(y_test, preds)\n",
        "    print(f\"{name}: {acc:.4f}\")"
      ],
      "metadata": {
        "colab": {
          "base_uri": "https://localhost:8080/"
        },
        "id": "Df_Qpfatx0-e",
        "outputId": "b83d125e-96ff-45b2-8fbc-3f1088d2bde6"
      },
      "execution_count": 3,
      "outputs": [
        {
          "output_type": "stream",
          "name": "stdout",
          "text": [
            "----- Base Models Performance -----\n",
            "Logistic Regression: 0.7197\n",
            "K-Nearest Neighbors (KNN): 0.6514\n",
            "Decision Tree (J48): 0.6339\n",
            "Support Vector Machine (SVC): 0.7295\n",
            "Naive Bayes: 0.5938\n"
          ]
        }
      ]
    },
    {
      "cell_type": "code",
      "source": [
        "bagging_model = RandomForestClassifier(random_state=42)\n",
        "bagging_model.fit(X_train, y_train)\n",
        "bagging_preds = bagging_model.predict(X_test)\n",
        "bagging_acc = accuracy_score(y_test, bagging_preds)\n",
        "\n",
        "boosting_model = GradientBoostingClassifier(random_state=42)\n",
        "boosting_model.fit(X_train, y_train)\n",
        "boosting_preds = boosting_model.predict(X_test)\n",
        "boosting_acc = accuracy_score(y_test, boosting_preds)\n",
        "\n",
        "print(\"\\n----- Ensemble Models Performance -----\")\n",
        "print(f\"Random Forest (Bagging): {bagging_acc:.4f}\")\n",
        "print(f\"Gradient Boosting: {boosting_acc:.4f}\")"
      ],
      "metadata": {
        "colab": {
          "base_uri": "https://localhost:8080/"
        },
        "id": "RZS9Gm2dx7UQ",
        "outputId": "3b0502a6-84cb-43ae-b622-b2c5bef8db83"
      },
      "execution_count": 4,
      "outputs": [
        {
          "output_type": "stream",
          "name": "stdout",
          "text": [
            "\n",
            "----- Ensemble Models Performance -----\n",
            "Random Forest (Bagging): 0.7155\n",
            "Gradient Boosting: 0.7366\n"
          ]
        }
      ]
    },
    {
      "cell_type": "code",
      "source": [],
      "metadata": {
        "id": "ZHsNGbBvyzVn"
      },
      "execution_count": null,
      "outputs": []
    }
  ]
}